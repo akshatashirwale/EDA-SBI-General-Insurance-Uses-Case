{
 "cells": [
  {
   "cell_type": "markdown",
   "metadata": {},
   "source": [
    "## SBI General Insurance Uses Data to Improve Car Insurance\n",
    "\n",
    "**About**\n",
    "\n",
    "Let's start with a bit of background on SBI General Insurance. It's part of the State Bank of India family, one of the biggest and most trusted names in banking. Since starting in 2009, SBI General has grown really fast. They've gone from just 17 branches to over 141 across India and have helped more than 55.55 crore customers!\n",
    "\n",
    "That's huge, right? And there's more – they've won awards like ‘Insurer of the Year’ in 2020 and 2021, and in 2022, they were named the 'Best General Insurance Company of the Year'.\n",
    "\n",
    "So, how did they get here? A big part of their success story is data – collecting it, analyzing it, and then using it to make better insurance products for people like you and me.\n",
    "\n",
    "**Objective**\n",
    "\n",
    "- The Insurance Manager aims to improve how well the insurance portfolio does by focusing on the areas that make the most money and making better models for figuring out risks. They plan to use what customers say to make their insurance products and customer service better, hoping to make customers happier.\n",
    "\n",
    "- The Insurance Manager also wants to make their team leaders stronger by giving them more training and encouraging them to work together and come up with new ideas.\n",
    "\n",
    "**Dataset**\n",
    "\n",
    "Let's inspect our dataset. The dataset offers a comprehensive overview of the vehicle insurance landscape, providing insights into customer preferences, dealership networks, financing options, and insurance policy choices. This dataset can be valuable for analysing trends in vehicle insurance, assessing regional variations in vehicle sales and insurance coverages, and understanding consumer behavior in the vehicle insurance market. \n",
    "\n"
   ]
  },
  {
   "cell_type": "markdown",
   "metadata": {},
   "source": [
    "**Importing Pandas, Numpy, Matplotlib, Seaborn and Warings Library.**"
   ]
  },
  {
   "cell_type": "code",
   "execution_count": 1,
   "metadata": {},
   "outputs": [],
   "source": [
    "import pandas as pd\n",
    "import numpy as np\n",
    "import matplotlib.pyplot as plt\n",
    "import seaborn as sns\n",
    "import plotly.express as px\n",
    "import warnings\n",
    "warnings.filterwarnings(\"ignore\")\n",
    "%matplotlib inline"
   ]
  },
  {
   "cell_type": "code",
   "execution_count": 2,
   "metadata": {},
   "outputs": [],
   "source": [
    "# Load the data\n",
    "data = pd.read_csv('Dataset/vehicle_insurance_data.csv')"
   ]
  },
  {
   "cell_type": "code",
   "execution_count": 3,
   "metadata": {},
   "outputs": [
    {
     "data": {
      "text/html": [
       "<div>\n",
       "<style scoped>\n",
       "    .dataframe tbody tr th:only-of-type {\n",
       "        vertical-align: middle;\n",
       "    }\n",
       "\n",
       "    .dataframe tbody tr th {\n",
       "        vertical-align: top;\n",
       "    }\n",
       "\n",
       "    .dataframe thead th {\n",
       "        text-align: right;\n",
       "    }\n",
       "</style>\n",
       "<table border=\"1\" class=\"dataframe\">\n",
       "  <thead>\n",
       "    <tr style=\"text-align: right;\">\n",
       "      <th></th>\n",
       "      <th>Ã¯Â»Â¿dealer</th>\n",
       "      <th>zone</th>\n",
       "      <th>state</th>\n",
       "      <th>location</th>\n",
       "      <th>policy</th>\n",
       "      <th>pol_id</th>\n",
       "      <th>consumer</th>\n",
       "      <th>pol_type</th>\n",
       "      <th>addon_prod</th>\n",
       "      <th>brand</th>\n",
       "      <th>...</th>\n",
       "      <th>bank</th>\n",
       "      <th>bank_city</th>\n",
       "      <th>package</th>\n",
       "      <th>financer</th>\n",
       "      <th>fin_branch</th>\n",
       "      <th>road_tax</th>\n",
       "      <th>registration_charges</th>\n",
       "      <th>on_road_price</th>\n",
       "      <th>dt_policy_expiry</th>\n",
       "      <th>policy_term_month</th>\n",
       "    </tr>\n",
       "  </thead>\n",
       "  <tbody>\n",
       "    <tr>\n",
       "      <th>0</th>\n",
       "      <td>Spice Route Auto Haven</td>\n",
       "      <td>Central</td>\n",
       "      <td>Madhya Pradesh</td>\n",
       "      <td>Gwalior</td>\n",
       "      <td>ICICI Lombard General</td>\n",
       "      <td>TIL/000000002</td>\n",
       "      <td>Mr. GUNDE GOWDA D J</td>\n",
       "      <td>TP Renewal</td>\n",
       "      <td>Yes</td>\n",
       "      <td>Mercedes-Benz</td>\n",
       "      <td>...</td>\n",
       "      <td>KARNATAKA BANK LIMITED</td>\n",
       "      <td>BANGALORE</td>\n",
       "      <td>ADDON</td>\n",
       "      <td>HONDA FINANCES</td>\n",
       "      <td>BANGALORE</td>\n",
       "      <td>NaN</td>\n",
       "      <td>NaN</td>\n",
       "      <td>767230</td>\n",
       "      <td>2023-11-18</td>\n",
       "      <td>36</td>\n",
       "    </tr>\n",
       "    <tr>\n",
       "      <th>1</th>\n",
       "      <td>Lotus Lake Auto Hub</td>\n",
       "      <td>South</td>\n",
       "      <td>Telangana</td>\n",
       "      <td>Suryapet</td>\n",
       "      <td>ICICI Lombard General</td>\n",
       "      <td>TIL/000000003</td>\n",
       "      <td>Mr. SHARANAPPA GOUD</td>\n",
       "      <td>TP Renewal</td>\n",
       "      <td>Yes</td>\n",
       "      <td>MG Motor</td>\n",
       "      <td>...</td>\n",
       "      <td>DHANLAXMI BANK LIMITED</td>\n",
       "      <td>BANGALORE</td>\n",
       "      <td>ADDON</td>\n",
       "      <td>NaN</td>\n",
       "      <td>NaN</td>\n",
       "      <td>NaN</td>\n",
       "      <td>NaN</td>\n",
       "      <td>767230</td>\n",
       "      <td>2023-02-25</td>\n",
       "      <td>12</td>\n",
       "    </tr>\n",
       "    <tr>\n",
       "      <th>2</th>\n",
       "      <td>Green Valley Drives</td>\n",
       "      <td>West</td>\n",
       "      <td>Gujarat</td>\n",
       "      <td>Surat</td>\n",
       "      <td>ICICI Lombard General</td>\n",
       "      <td>TIL/000000004</td>\n",
       "      <td>Mr. REVANEPPA H MALAGI</td>\n",
       "      <td>TP Renewal</td>\n",
       "      <td>Yes</td>\n",
       "      <td>BMW</td>\n",
       "      <td>...</td>\n",
       "      <td>DHANLAXMI BANK LIMITED</td>\n",
       "      <td>BANGALORE</td>\n",
       "      <td>ADDON</td>\n",
       "      <td>HONDA FINANCES</td>\n",
       "      <td>BANGALORE</td>\n",
       "      <td>NaN</td>\n",
       "      <td>NaN</td>\n",
       "      <td>751223</td>\n",
       "      <td>2021-02-01</td>\n",
       "      <td>12</td>\n",
       "    </tr>\n",
       "  </tbody>\n",
       "</table>\n",
       "<p>3 rows × 38 columns</p>\n",
       "</div>"
      ],
      "text/plain": [
       "             Ã¯Â»Â¿dealer     zone           state  location  \\\n",
       "0  Spice Route Auto Haven  Central  Madhya Pradesh   Gwalior   \n",
       "1     Lotus Lake Auto Hub    South       Telangana  Suryapet   \n",
       "2     Green Valley Drives     West         Gujarat     Surat   \n",
       "\n",
       "                  policy         pol_id                consumer    pol_type  \\\n",
       "0  ICICI Lombard General  TIL/000000002     Mr. GUNDE GOWDA D J  TP Renewal   \n",
       "1  ICICI Lombard General  TIL/000000003     Mr. SHARANAPPA GOUD  TP Renewal   \n",
       "2  ICICI Lombard General  TIL/000000004  Mr. REVANEPPA H MALAGI  TP Renewal   \n",
       "\n",
       "  addon_prod          brand  ...                    bank  bank_city package  \\\n",
       "0        Yes  Mercedes-Benz  ...  KARNATAKA BANK LIMITED  BANGALORE   ADDON   \n",
       "1        Yes       MG Motor  ...  DHANLAXMI BANK LIMITED  BANGALORE   ADDON   \n",
       "2        Yes            BMW  ...  DHANLAXMI BANK LIMITED  BANGALORE   ADDON   \n",
       "\n",
       "         financer fin_branch road_tax  registration_charges  on_road_price  \\\n",
       "0  HONDA FINANCES  BANGALORE      NaN                   NaN         767230   \n",
       "1             NaN        NaN      NaN                   NaN         767230   \n",
       "2  HONDA FINANCES  BANGALORE      NaN                   NaN         751223   \n",
       "\n",
       "   dt_policy_expiry  policy_term_month  \n",
       "0        2023-11-18                 36  \n",
       "1        2023-02-25                 12  \n",
       "2        2021-02-01                 12  \n",
       "\n",
       "[3 rows x 38 columns]"
      ]
     },
     "execution_count": 3,
     "metadata": {},
     "output_type": "execute_result"
    }
   ],
   "source": [
    "# Show Top 5 Records\n",
    "data.head(3)"
   ]
  },
  {
   "cell_type": "code",
   "execution_count": 4,
   "metadata": {},
   "outputs": [
    {
     "data": {
      "text/plain": [
       "Index(['Ã¯Â»Â¿dealer', 'zone', 'state', 'location', 'policy', 'pol_id',\n",
       "       'consumer', 'pol_type', 'addon_prod', 'brand', 'product',\n",
       "       'vehicle_type', 'fuel_type', 'transmission', 'dt_pol_create',\n",
       "       'dt_pol_effect', 'insurance_declared_value', 'addon_premium',\n",
       "       'rti_premium', 'od_premium', 'third_party_liability', 'pa_cover',\n",
       "       'legal_liability', 'liability', 'service_tax', 'gross_premium',\n",
       "       'payment_mode', 'dt_cheque', 'bank', 'bank_city', 'package', 'financer',\n",
       "       'fin_branch', 'road_tax', 'registration_charges', 'on_road_price',\n",
       "       'dt_policy_expiry', 'policy_term_month'],\n",
       "      dtype='object')"
      ]
     },
     "execution_count": 4,
     "metadata": {},
     "output_type": "execute_result"
    }
   ],
   "source": [
    "# Returns the column labels of the DataFrame\n",
    "data.columns"
   ]
  },
  {
   "cell_type": "code",
   "execution_count": 5,
   "metadata": {},
   "outputs": [
    {
     "data": {
      "text/plain": [
       "(35066, 38)"
      ]
     },
     "execution_count": 5,
     "metadata": {},
     "output_type": "execute_result"
    }
   ],
   "source": [
    "# Shape of the dataset\n",
    "data.shape"
   ]
  },
  {
   "cell_type": "markdown",
   "metadata": {},
   "source": [
    "**Q1. Find Unique Count Of total Customer**"
   ]
  },
  {
   "cell_type": "code",
   "execution_count": 6,
   "metadata": {},
   "outputs": [
    {
     "name": "stdout",
     "output_type": "stream",
     "text": [
      "Total unique customers: 16886\n"
     ]
    }
   ],
   "source": [
    "unique_customers = data['consumer'].nunique()\n",
    "print(f'Total unique customers: {unique_customers}')"
   ]
  },
  {
   "cell_type": "markdown",
   "metadata": {},
   "source": [
    "**Q2. What Is My Unique Count Of total Policy**"
   ]
  },
  {
   "cell_type": "code",
   "execution_count": 8,
   "metadata": {},
   "outputs": [
    {
     "name": "stdout",
     "output_type": "stream",
     "text": [
      "Total unique policies: 35064\n"
     ]
    }
   ],
   "source": [
    "unique_policies = data['pol_id'].nunique()\n",
    "print(f'Total unique policies: {unique_policies}')"
   ]
  },
  {
   "cell_type": "markdown",
   "metadata": {},
   "source": [
    "**Q3. Find out the Total Policies by Year**"
   ]
  },
  {
   "cell_type": "code",
   "execution_count": 64,
   "metadata": {},
   "outputs": [
    {
     "name": "stdout",
     "output_type": "stream",
     "text": [
      "   Year  Total Policies\n",
      "0  2020            8744\n",
      "1  2021            8927\n",
      "2  2022            8672\n",
      "3  2023            8723\n"
     ]
    }
   ],
   "source": [
    "# Convert the policy creation date column to datetime\n",
    "data['dt_pol_create'] = pd.to_datetime(data['dt_pol_create'], errors='coerce')\n",
    "\n",
    "# Extract the year from the policy creation date:\n",
    "data['year'] = data['dt_pol_create'].dt.year\n",
    "\n",
    "#Calculate the yearly total count of policies:\n",
    "yearly_policy_count = data.groupby('year')['pol_id'].count().reset_index()\n",
    "yearly_policy_count.columns = ['Year', 'Total Policies']\n",
    "print(yearly_policy_count)"
   ]
  },
  {
   "cell_type": "code",
   "execution_count": 19,
   "metadata": {},
   "outputs": [
    {
     "data": {
      "image/png": "[encoded data removed]",
      "text/plain": [
       "<Figure size 720x432 with 1 Axes>"
      ]
     },
     "metadata": {},
     "output_type": "display_data"
    }
   ],
   "source": [
    "# Set the style of the plot\n",
    "sns.set(style=\"whitegrid\")\n",
    "\n",
    "# Create the bar plot\n",
    "plt.figure(figsize=(10, 6))\n",
    "bar_plot = sns.barplot(x='Year', y='Total Policies', data=yearly_policy_count, palette='viridis')\n",
    "\n",
    "# Add titles and labels\n",
    "plt.title('Yearly Total Count of Policies', fontsize=16)\n",
    "plt.xlabel('Year', fontsize=14)\n",
    "plt.ylabel('Total Policies', fontsize=14)\n",
    "\n",
    "# Add values on top of the bars\n",
    "for index, row in yearly_policy_count.iterrows():\n",
    "    bar_plot.text(row.name, row['Total Policies'], round(row['Total Policies'], 2), color='black', ha=\"center\")\n",
    "\n",
    "# Show the plot\n",
    "plt.show()"
   ]
  },
  {
   "cell_type": "markdown",
   "metadata": {},
   "source": [
    "**Q4. What are the top 10 banks with the highest count of unique customers**"
   ]
  },
  {
   "cell_type": "code",
   "execution_count": 15,
   "metadata": {},
   "outputs": [
    {
     "name": "stdout",
     "output_type": "stream",
     "text": [
      "                                    Bank  Total Customers\n",
      "19                               AMEX CC            10179\n",
      "18  AMERICAN EXPRESS BANKING CORPORATION             7076\n",
      "44                DHANLAXMI BANK LIMITED             4471\n",
      "3                                    ACH             1410\n",
      "67                        ONLINE PAYMENT              361\n",
      "83                   STATE BANK OF INDIA              346\n",
      "49                        HDFC BANK LTD.              304\n",
      "53                    ICICI BANK LIMITED              225\n",
      "28                           CANARA BANK              187\n",
      "21                         AXIS BANK LTD              132\n"
     ]
    }
   ],
   "source": [
    "# Calculate the unique count of customers by bank\n",
    "customers_by_bank = data.groupby('bank')['consumer'].nunique().reset_index()\n",
    "customers_by_bank.columns = ['Bank', 'Total Customers']\n",
    "\n",
    "# Sort by total customers in descending order\n",
    "customers_by_bank = customers_by_bank.sort_values(by='Total Customers', ascending=False)\n",
    "\n",
    "# Select top 10 banks\n",
    "top_10_banks = customers_by_bank.head(10)\n",
    "\n",
    "# Display the result\n",
    "print(top_10_banks)"
   ]
  },
  {
   "cell_type": "markdown",
   "metadata": {},
   "source": [
    "**Q4. Find out the total count of customers by payment mode**"
   ]
  },
  {
   "cell_type": "code",
   "execution_count": 21,
   "metadata": {},
   "outputs": [
    {
     "name": "stdout",
     "output_type": "stream",
     "text": [
      "          Payment Mode  Total Customers\n",
      "0                 Cash              456\n",
      "1         Direct Debit            11202\n",
      "2          Installment             1849\n",
      "3                 Loan               30\n",
      "4                Other              654\n",
      "5  Unknown/Unspecified            10181\n"
     ]
    }
   ],
   "source": [
    "# Calculate the total count of customers by payment mode\n",
    "customers_by_payment_mode = data.groupby('payment_mode')['consumer'].nunique().reset_index()\n",
    "customers_by_payment_mode.columns = ['Payment Mode', 'Total Customers']\n",
    "\n",
    "# Display the result\n",
    "print(customers_by_payment_mode)"
   ]
  },
  {
   "cell_type": "markdown",
   "metadata": {},
   "source": [
    "**Q5. Find out the total count of customers by policy type**"
   ]
  },
  {
   "cell_type": "code",
   "execution_count": 22,
   "metadata": {},
   "outputs": [
    {
     "name": "stdout",
     "output_type": "stream",
     "text": [
      "       Policy Type  Total Customers\n",
      "0    First Renewal              561\n",
      "1              NEW              561\n",
      "2      NTP Renewal             5140\n",
      "3              New             7648\n",
      "4  Seconed Renewal              561\n",
      "5       TP Renewal             9160\n"
     ]
    }
   ],
   "source": [
    "# Calculate the total count of customers by policy type\n",
    "customers_by_policy = data.groupby('pol_type')['consumer'].nunique().reset_index()\n",
    "customers_by_policy.columns = ['Policy Type', 'Total Customers']\n",
    "\n",
    "# Display the result\n",
    "print(customers_by_policy)"
   ]
  },
  {
   "cell_type": "markdown",
   "metadata": {},
   "source": [
    "**Q6. Find out the total count of customers by policy**"
   ]
  },
  {
   "cell_type": "code",
   "execution_count": 25,
   "metadata": {},
   "outputs": [
    {
     "name": "stdout",
     "output_type": "stream",
     "text": [
      "                   Policy  Total Customers\n",
      "0   Bajaj Allianz General             3398\n",
      "1  Cholamandalam MS Gener             4401\n",
      "2   ICICI Lombard General             6563\n",
      "3  IFFCO Tokio General In              821\n",
      "4  Reliance General Insur             3102\n",
      "5   SBI General Insurance             2703\n",
      "6  The New India Assuranc                4\n",
      "7  United India Insurance               61\n"
     ]
    }
   ],
   "source": [
    "# Calculate the total count of customers by policy\n",
    "customers_by_policy = data.groupby('policy')['consumer'].nunique().reset_index()\n",
    "customers_by_policy.columns = ['Policy', 'Total Customers']\n",
    "\n",
    "# Display the result\n",
    "print(customers_by_policy)"
   ]
  },
  {
   "cell_type": "code",
   "execution_count": 30,
   "metadata": {},
   "outputs": [
    {
     "data": {
      "image/png": "[encoded data removed]",
      "text/plain": [
       "<Figure size 720x432 with 1 Axes>"
      ]
     },
     "metadata": {},
     "output_type": "display_data"
    }
   ],
   "source": [
    "# Sort the data by total customers in ascending order\n",
    "customers_by_policy = customers_by_policy.sort_values(by='Total Customers', ascending=False)\n",
    "\n",
    "# Create the bar plot\n",
    "plt.figure(figsize=(10, 6))\n",
    "sns.barplot(x='Total Customers', y='Policy', data=customers_by_policy, palette='viridis')\n",
    "\n",
    "# Add titles and labels\n",
    "plt.title('Total Count of Customers by Policy Type', fontsize=16)\n",
    "plt.xlabel('Total Customers', fontsize=14)\n",
    "plt.ylabel('Policy Type', fontsize=14)\n",
    "\n",
    "# Show the plot\n",
    "plt.show()"
   ]
  },
  {
   "cell_type": "markdown",
   "metadata": {},
   "source": [
    "**Q7. Find out the total count of policies by vehicle type**"
   ]
  },
  {
   "cell_type": "code",
   "execution_count": 35,
   "metadata": {},
   "outputs": [
    {
     "name": "stdout",
     "output_type": "stream",
     "text": [
      "  Vehicle Type  Total Policy Count\n",
      "4          SUV               17497\n",
      "1    Hatchback                6740\n",
      "5        Sedan                6626\n",
      "2          MPV                2128\n",
      "6   Sports Car                 670\n",
      "3       Pickup                 663\n",
      "7        Wagon                 390\n",
      "0        Coupe                 352\n"
     ]
    }
   ],
   "source": [
    "# Calculate the total count of policies by vehicle type\n",
    "policy_count_by_vehicle_type = data.groupby('vehicle_type')['pol_id'].count().reset_index()\n",
    "policy_count_by_vehicle_type.columns = ['Vehicle Type', 'Total Policy Count']\n",
    "\n",
    "# Sort the data by total policy count in ascending order\n",
    "policy_count_by_vehicle_type = policy_count_by_vehicle_type.sort_values(by='Total Policy Count', ascending=False)\n",
    "\n",
    "# Display the result\n",
    "print(policy_count_by_vehicle_type)"
   ]
  },
  {
   "cell_type": "markdown",
   "metadata": {},
   "source": [
    "**Q8. Find out the Total Count Customer By Policy Type**"
   ]
  },
  {
   "cell_type": "code",
   "execution_count": 44,
   "metadata": {},
   "outputs": [
    {
     "name": "stdout",
     "output_type": "stream",
     "text": [
      "       Policy Type  Total Customer Count\n",
      "5       TP Renewal                  9160\n",
      "3              New                  7648\n",
      "2      NTP Renewal                  5140\n",
      "0    First Renewal                   561\n",
      "1              NEW                   561\n",
      "4  Seconed Renewal                   561\n"
     ]
    }
   ],
   "source": [
    "# Calculate the total count of customers by policy type\n",
    "customer_count_by_policy_type = data.groupby('pol_type')['consumer'].nunique().reset_index()\n",
    "customer_count_by_policy_type.columns = ['Policy Type', 'Total Customer Count']\n",
    "\n",
    "# Sort the result in descending order by total customer count\n",
    "customer_count_by_policy_type = customer_count_by_policy_type.sort_values(by='Total Customer Count', ascending=False)\n",
    "\n",
    "# Display the result\n",
    "print(customer_count_by_policy_type)"
   ]
  },
  {
   "cell_type": "code",
   "execution_count": 47,
   "metadata": {},
   "outputs": [
    {
     "data": {
      "image/png": "[encoded data removed]",
      "text/plain": [
       "<Figure size 720x432 with 1 Axes>"
      ]
     },
     "metadata": {},
     "output_type": "display_data"
    }
   ],
   "source": [
    "# Create the bar plot using seaborn\n",
    "plt.figure(figsize=(10, 6))\n",
    "bar_plot = sns.barplot(x='Policy Type', y='Total Customer Count', data=customer_count_by_policy_type, palette='viridis')\n",
    "\n",
    "\n",
    "# Add titles and labels\n",
    "plt.title('Total Count of Customers by Policy Type', fontsize=16)\n",
    "plt.xlabel('Policy Type', fontsize=14)\n",
    "plt.ylabel('Total Customers', fontsize=14)\n",
    "plt.xticks(rotation=45)  # Rotate x-axis labels\n",
    "\n",
    "# Show the plot\n",
    "plt.show()"
   ]
  },
  {
   "cell_type": "markdown",
   "metadata": {},
   "source": [
    "**9. What is our overall performance in vehicle Insurance?**"
   ]
  },
  {
   "cell_type": "code",
   "execution_count": 54,
   "metadata": {},
   "outputs": [
    {
     "name": "stdout",
     "output_type": "stream",
     "text": [
      "Total Number of Policies: 35064\n",
      "Total Premium Collected: 1419881376\n"
     ]
    }
   ],
   "source": [
    "# 1. Total Number of Policies\n",
    "total_policies = data['pol_id'].nunique()\n",
    "\n",
    "# 2. Total Premium Collected\n",
    "total_premium = data['gross_premium'].sum()\n",
    "\n",
    "print(f\"Total Number of Policies: {total_policies}\")\n",
    "print(f\"Total Premium Collected: {total_premium}\")"
   ]
  },
  {
   "cell_type": "code",
   "execution_count": 49,
   "metadata": {},
   "outputs": [
    {
     "name": "stdout",
     "output_type": "stream",
     "text": [
      "Unique Count of Customers: 16886\n",
      "Total Insurance Declared Value: $34.6 billion\n",
      "Total Number of Running Policies: 35064\n"
     ]
    }
   ],
   "source": [
    "# Calculate the unique count of customers\n",
    "unique_customers = data['consumer'].nunique()\n",
    "\n",
    "# Calculate the total insurance declared value\n",
    "total_insured_value = data['insurance_declared_value'].sum()\n",
    "\n",
    "# Calculate the total number of policies\n",
    "total_policies = data['pol_id'].nunique()\n",
    "\n",
    "# Display the results\n",
    "print(f\"Unique Count of Customers: {unique_customers}\")\n",
    "print(f\"Total Insurance Declared Value: ${total_insured_value / 1e9:.1f} billion\")\n",
    "print(f\"Total Number of Running Policies: {total_policies}\")"
   ]
  },
  {
   "cell_type": "markdown",
   "metadata": {},
   "source": [
    "> **Observation:** We have 16891 customers with $34.6 billion insured amount and 35066 policies running."
   ]
  },
  {
   "cell_type": "markdown",
   "metadata": {},
   "source": [
    "**Q10. Find out the top 10 policies by state**"
   ]
  },
  {
   "cell_type": "code",
   "execution_count": 56,
   "metadata": {},
   "outputs": [
    {
     "name": "stdout",
     "output_type": "stream",
     "text": [
      "\n",
      "Top 10 States by Total Number of Policies:\n",
      "             State  Total Policies\n",
      "22       Telangana            3315\n",
      "15     Maharashtra            3126\n",
      "5     Chhattisgarh            1978\n",
      "14  Madhya Pradesh            1919\n",
      "10       Jharkhand            1893\n",
      "23   Uttar Pradesh            1889\n",
      "20       Rajasthan            1876\n",
      "4            Bihar            1694\n",
      "7          Haryana            1680\n",
      "6          Gujarat            1632\n"
     ]
    }
   ],
   "source": [
    "# Calculate the total number of policies by state\n",
    "policies_by_state = data.groupby('state')['pol_id'].count().reset_index()\n",
    "policies_by_state.columns = ['State', 'Total Policies']\n",
    "\n",
    "# Sort the DataFrame by 'Total Policies' in descending order and select the top 10\n",
    "top_10_states = policies_by_state.sort_values(by='Total Policies', ascending=False).head(10)\n",
    "\n",
    "# Display the result\n",
    "print(\"\\nTop 10 States by Total Number of Policies:\")\n",
    "print(top_10_states)"
   ]
  },
  {
   "cell_type": "markdown",
   "metadata": {},
   "source": [
    "**Q11. How are my customers Distributed over Banks?**"
   ]
  },
  {
   "cell_type": "code",
   "execution_count": 58,
   "metadata": {},
   "outputs": [
    {
     "name": "stdout",
     "output_type": "stream",
     "text": [
      "Top 10 Banks by Customer Count:\n",
      "                                    Bank  Total Customers\n",
      "19                               AMEX CC            10179\n",
      "18  AMERICAN EXPRESS BANKING CORPORATION             7076\n",
      "44                DHANLAXMI BANK LIMITED             4471\n",
      "3                                    ACH             1410\n",
      "67                        ONLINE PAYMENT              361\n",
      "83                   STATE BANK OF INDIA              346\n",
      "49                        HDFC BANK LTD.              304\n",
      "53                    ICICI BANK LIMITED              225\n",
      "28                           CANARA BANK              187\n",
      "21                         AXIS BANK LTD              132\n"
     ]
    }
   ],
   "source": [
    "# 1. Calculate the number of unique customers per bank\n",
    "customers_by_bank = data.groupby('bank')['consumer'].nunique().reset_index()\n",
    "customers_by_bank.columns = ['Bank', 'Total Customers']\n",
    "\n",
    "# Sort the banks by customer count in descending order and select the top 10\n",
    "top_10_banks = customers_by_bank.sort_values(by='Total Customers', ascending=False).head(10)\n",
    "\n",
    "# 2. Calculate the number of unique customers per payment mode\n",
    "customers_by_payment_mode = data.groupby('payment_mode')['consumer'].nunique().reset_index()\n",
    "customers_by_payment_mode.columns = ['Payment Mode', 'Total Customers']\n",
    "\n",
    "# Display the results\n",
    "print(\"Top 10 Banks by Customer Count:\")\n",
    "print(top_10_banks)"
   ]
  },
  {
   "cell_type": "code",
   "execution_count": 59,
   "metadata": {},
   "outputs": [
    {
     "name": "stdout",
     "output_type": "stream",
     "text": [
      "\n",
      "Customers by Payment Mode:\n",
      "          Payment Mode  Total Customers\n",
      "0                 Cash              456\n",
      "1         Direct Debit            11202\n",
      "2          Installment             1849\n",
      "3                 Loan               30\n",
      "4                Other              654\n",
      "5  Unknown/Unspecified            10181\n"
     ]
    }
   ],
   "source": [
    "print(\"\\nCustomers by Payment Mode:\")\n",
    "print(customers_by_payment_mode)"
   ]
  },
  {
   "cell_type": "markdown",
   "metadata": {},
   "source": [
    "> **Observation:** Amex cc is popular amongst customers and they like the Direct Debit Facility of payment mode.\n",
    "\n"
   ]
  },
  {
   "cell_type": "markdown",
   "metadata": {},
   "source": [
    "**Q12. How do the average gross premiums differ among various insurance packages and vehicle types**"
   ]
  },
  {
   "cell_type": "code",
   "execution_count": 61,
   "metadata": {},
   "outputs": [
    {
     "name": "stdout",
     "output_type": "stream",
     "text": [
      "Average Gross Premium by Package (sorted descending):\n",
      "     Package  Average Gross Premium\n",
      "4     LUXURY           84679.078935\n",
      "6        RTI           76770.666667\n",
      "7   STANDARD           65483.433333\n",
      "5    PREMIUM           59505.161795\n",
      "1    ADVANCE           39637.263836\n",
      "0      ADDON           38315.629630\n",
      "2    DELIGHT           29042.776817\n",
      "8   SUPERIOR           27084.889888\n",
      "3  ESSENTIAL           18215.136753\n",
      "9     Select           11927.384615\n",
      "\n",
      "Average Gross Premium by Vehicle Type (sorted descending):\n",
      "  Vehicle Type  Average Gross Premium\n",
      "0        Coupe           41767.275568\n",
      "1    Hatchback           41104.533976\n",
      "2          MPV           40506.812030\n",
      "5        Sedan           40404.866888\n",
      "4          SUV           40362.823398\n",
      "6   Sports Car           40309.071642\n",
      "3       Pickup           39271.324284\n",
      "7        Wagon           38311.038462\n"
     ]
    }
   ],
   "source": [
    "# 1. Average Gross Premium by Package\n",
    "average_gross_premium_by_package = data.groupby('package')['gross_premium'].mean().reset_index()\n",
    "average_gross_premium_by_package.columns = ['Package', 'Average Gross Premium']\n",
    "average_gross_premium_by_package = average_gross_premium_by_package.sort_values(by='Average Gross Premium', ascending=False)\n",
    "\n",
    "# 2. Average Gross Premium by Vehicle Type\n",
    "average_gross_premium_by_vehicle_type = data.groupby('vehicle_type')['gross_premium'].mean().reset_index()\n",
    "average_gross_premium_by_vehicle_type.columns = ['Vehicle Type', 'Average Gross Premium']\n",
    "average_gross_premium_by_vehicle_type = average_gross_premium_by_vehicle_type.sort_values(by='Average Gross Premium', ascending=False)\n",
    "\n",
    "# Display the results\n",
    "print(\"Average Gross Premium by Package (sorted descending):\")\n",
    "print(average_gross_premium_by_package)\n",
    "\n",
    "print(\"\\nAverage Gross Premium by Vehicle Type (sorted descending):\")\n",
    "print(average_gross_premium_by_vehicle_type)"
   ]
  },
  {
   "cell_type": "markdown",
   "metadata": {},
   "source": [
    "> **Observation:** Luxury and RTI Package are popular in high end customers whose top 3 vehicle type choices are Sports Car, MPV, SUV.‍"
   ]
  },
  {
   "cell_type": "markdown",
   "metadata": {},
   "source": [
    "**Q13. Which regions and categories contribute the most to sales?**"
   ]
  },
  {
   "cell_type": "code",
   "execution_count": 62,
   "metadata": {},
   "outputs": [
    {
     "name": "stdout",
     "output_type": "stream",
     "text": [
      "Total Gross Premium by State (sorted descending):\n",
      "             State  Total Gross Premium\n",
      "22       Telangana            133670003\n",
      "15     Maharashtra            128361682\n",
      "5     Chhattisgarh             78182496\n",
      "10       Jharkhand             77810559\n",
      "23   Uttar Pradesh             77343272\n",
      "14  Madhya Pradesh             75293993\n",
      "20       Rajasthan             74625798\n",
      "7          Haryana             70595736\n",
      "4            Bihar             68608955\n",
      "6          Gujarat             65308744\n",
      "\n",
      "Total Gross Premium by Vehicle Type (sorted descending):\n",
      "  Vehicle Type  Total Gross Premium\n",
      "4          SUV            706228321\n",
      "1    Hatchback            277044559\n",
      "5        Sedan            267722648\n",
      "2          MPV             86198496\n",
      "6   Sports Car             27007078\n",
      "3       Pickup             26036888\n",
      "7        Wagon             14941305\n",
      "0        Coupe             14702081\n"
     ]
    }
   ],
   "source": [
    "# 1. Total Gross Premium by State\n",
    "gross_premium_by_state = data.groupby('state')['gross_premium'].sum().reset_index()\n",
    "gross_premium_by_state.columns = ['State', 'Total Gross Premium']\n",
    "gross_premium_by_state = gross_premium_by_state.sort_values(by='Total Gross Premium', ascending=False)\n",
    "\n",
    "# 2. Total Gross Premium by Vehicle Type\n",
    "gross_premium_by_vehicle_type = data.groupby('vehicle_type')['gross_premium'].sum().reset_index()\n",
    "gross_premium_by_vehicle_type.columns = ['Vehicle Type', 'Total Gross Premium']\n",
    "gross_premium_by_vehicle_type = gross_premium_by_vehicle_type.sort_values(by='Total Gross Premium', ascending=False)\n",
    "\n",
    "# Display the results\n",
    "print(\"Total Gross Premium by State (sorted descending):\")\n",
    "print(gross_premium_by_state.head(10))  # Display top 10 states\n",
    "\n",
    "print(\"\\nTotal Gross Premium by Vehicle Type (sorted descending):\")\n",
    "print(gross_premium_by_vehicle_type)"
   ]
  },
  {
   "cell_type": "markdown",
   "metadata": {},
   "source": [
    "### Outcome:\n",
    "\n",
    "> In conclusion, our analysis reveals distinct preferences and behaviors among our clientele. High-end customers exhibit a strong preference for luxury and the RTI Package, with Sports Cars, MPVs, and SUVs emerging as their vehicles of choice. Furthermore, there's a noticeable trend towards TP Renewal, with SUVs standing out as the favored vehicle type. The payment preferences of our customers lean towards the convenience of American Express credit cards and the Direct Debit Facility, highlighting their desire for streamlined transactions. Impressively, our current customer base encompasses 16,891 individuals, collectively insuring an amount of $34.6 billion across 35,066 policies"
   ]
  }
 ],
 "metadata": {
  "kernelspec": {
   "display_name": "Python 3",
   "language": "python",
   "name": "python3"
  },
  "language_info": {
   "codemirror_mode": {
    "name": "ipython",
    "version": 3
   },
   "file_extension": ".py",
   "mimetype": "text/x-python",
   "name": "python",
   "nbconvert_exporter": "python",
   "pygments_lexer": "ipython3",
   "version": "3.6.9"
  }
 },
 "nbformat": 4,
 "nbformat_minor": 4
}
